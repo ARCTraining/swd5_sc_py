{
 "cells": [
  {
   "cell_type": "markdown",
   "metadata": {
    "slideshow": {
     "slide_type": "slide"
    }
   },
   "source": [
    "# SciPy"
   ]
  },
  {
   "cell_type": "markdown",
   "metadata": {
    "slideshow": {
     "slide_type": "slide"
    }
   },
   "source": [
    "## Overview\n",
    "\n",
    "* NumPy provides arrays and limited additional functionality\n",
    "\n",
    "\n",
    "* SciPy builds on NumPy and provides additional modules:\n",
    "  * Linear Algebra and wrappers to LAPACK & BLAS `scipy.linalg`\n",
    "  * Numerical Integration `scipy.integrate` \n",
    "  * Interpolation `scipy.interpolate`\n",
    "  * Optimisation `scipy.optimize` \n",
    "  * Special functions `scipy.special`\n",
    "  * Signal processing `scipy.signal`\n",
    "  * Image Processing `scipy.ndimage`\n",
    "  * Fourier transforms `scipy.fftpack`\n",
    "  * Statistical functions `stats` \n",
    "  * Spatial data structures and algorithms `scipy.spatial`\n",
    "  * File I/O e.g. to read MATLAB files `scipy.io`\n",
    "  <br>"
   ]
  },
  {
   "cell_type": "markdown",
   "metadata": {
    "slideshow": {
     "slide_type": "slide"
    }
   },
   "source": [
    "## Useful links\n",
    "\n",
    "- Note: no PDE solvers (though other packages exist) \n",
    "\n",
    "- Documentation:\n",
    "  - <https://docs.scipy.org/doc/scipy/reference/index.html>\n",
    "  - <http://scipy-cookbook.readthedocs.org>"
   ]
  },
  {
   "cell_type": "markdown",
   "metadata": {
    "slideshow": {
     "slide_type": "slide"
    }
   },
   "source": [
    "## Linear algebra: `sicpy.linalg`\n",
    "\n",
    "- Wider set of linear algebra operations than in Numpy \n",
    "  - various decompositions (eigen, singular value)\n",
    "  - matrix exponentials, trigonometric functions\n",
    "  - particular matrix equations and special matrics\n",
    "  - low-level LAPACK and BLAS routines\n",
    "- Routines also for sparse matrices\n",
    "  - storage formats \n",
    "  - iterative algorithms"
   ]
  },
  {
   "cell_type": "markdown",
   "metadata": {
    "slideshow": {
     "slide_type": "subslide"
    }
   },
   "source": [
    "### Example: Matrix inverse\n",
    "\n",
    "Consider:\n",
    "\n",
    "$$\n",
    "A = \\left[ \\begin{array}\n",
    "{rrr}\n",
    "1 & 3 & 5 \\\\\n",
    " 2 & 5 & 1 \\\\\n",
    " 2 & 3 & 8 \\\\\n",
    "\\end{array} \\right]\n",
    "$$\n",
    "\n",
    "The inverse of $A$ is\n",
    "\n",
    "$$\n",
    "A^{-1} = \n",
    "\\frac{1}{25} \\left[ \\begin{array}\n",
    "{rrr}\n",
    "-37 & 9 & 22\\\\\n",
    "14 & 2 & -9 \\\\ \n",
    "4 & -3 & 1\\\\\n",
    "\\end{array} \\right]\n",
    "\\approx\n",
    "\\left[ \\begin{array}\n",
    "{rrr}\n",
    "-1.48 & 0.36 &  0.88\\\\\n",
    "-0.56 &  0.08 & -0.36 \\\\ \n",
    "0.16 & -0.12 &  0.04\\\\\n",
    "\\end{array} \\right]\n",
    "$$\n",
    "\n",
    "which may be confirmed by checking $A A^{-1} = I$ where $I$ is the identity.\n",
    "\n",
    "See this [solution step by step](https://www.emathhelp.net/calculators/linear-algebra/inverse-of-matrix-calculator/?i=%5B%5B1%2C3%2C5%5D%2C%5B2%2C5%2C1%5D%2C%5B2%2C3%2C8%5D%5D&m=g)!"
   ]
  },
  {
   "cell_type": "markdown",
   "metadata": {},
   "source": [
    "#### (a) Find inverse of matrix A (as defined above)."
   ]
  },
  {
   "cell_type": "code",
   "execution_count": 1,
   "metadata": {
    "scrolled": true,
    "slideshow": {
     "slide_type": "-"
    }
   },
   "outputs": [
    {
     "name": "stdout",
     "output_type": "stream",
     "text": [
      "[[-1.48  0.36  0.88]\n",
      " [ 0.56  0.08 -0.36]\n",
      " [ 0.16 -0.12  0.04]]\n"
     ]
    }
   ],
   "source": [
    "from scipy import linalg\n",
    "import numpy as np\n",
    "\n",
    "# Define the matrix using numpy\n",
    "A = np.array([[1, 3, 5], [2, 5, 1], [2, 3, 8]])\n",
    "\n",
    "# Find inverse using scipy.linalg.inv()\n",
    "Ainv = linalg.inv(A)\n",
    "print(Ainv)"
   ]
  },
  {
   "cell_type": "markdown",
   "metadata": {},
   "source": [
    "#### (b) Check the result by inverting the result, which should return the original matrix  $A$\n",
    "\n",
    "Tip: you combine [`numpy.rint()`](https://numpy.org/devdocs/reference/generated/numpy.rint.html#numpy.rint) to round to the nearest integer\n",
    "and [`numpy.astype(int)`](https://numpy.org/doc/stable/reference/generated/numpy.ndarray.astype.html) to transform the result into a integer matrix."
   ]
  },
  {
   "cell_type": "code",
   "execution_count": 2,
   "metadata": {},
   "outputs": [
    {
     "name": "stdout",
     "output_type": "stream",
     "text": [
      "[[1 3 5]\n",
      " [2 5 1]\n",
      " [2 3 8]]\n"
     ]
    }
   ],
   "source": [
    "print(np.rint(linalg.inv(Ainv)).astype(int))"
   ]
  },
  {
   "cell_type": "markdown",
   "metadata": {},
   "source": [
    "#### (c) Check the result by multiplying out  $A A^{-1}$ , which should give identity matrix  $I$\n",
    "\n",
    "Were the identity matrix is:\n",
    "\n",
    "$$\n",
    "I = \\left[ \\begin{array}\n",
    "{rrr}\n",
    "    1 & 0 & 0 \\\\\n",
    "    0 & 1 & 0 \\\\\n",
    "    0 & 0 & 1 \\\\\n",
    "\\end{array} \\right]\n",
    "$$\n",
    "\n",
    "Tip: you combine `numpy.rint()` to round to the nearest integer\n",
    "and `.astype(int)` to transform the result into a integer matrix."
   ]
  },
  {
   "cell_type": "code",
   "execution_count": 3,
   "metadata": {},
   "outputs": [
    {
     "name": "stdout",
     "output_type": "stream",
     "text": [
      "[[1 0 0]\n",
      " [0 1 0]\n",
      " [0 0 1]]\n"
     ]
    }
   ],
   "source": [
    "print(np.rint(A.dot(Ainv)).astype(int))"
   ]
  },
  {
   "cell_type": "markdown",
   "metadata": {},
   "source": [
    "## Example: Linear equation\n",
    "\n",
    "[`scipy.linalg.solve()`](https://docs.scipy.org/doc/scipy/reference/generated/scipy.linalg.solve.html#scipy-linalg-solve)\n",
    "solves the linear equation set `a @ x == b` for the unknown `x` for square a matrix.\n",
    "\n",
    "Knowing that $A A^{-1} = I$, find the inverse $A^{-1}$ using the linear equation approach.\n",
    "\n",
    "Tip: you can create an identity matrix using [numpy.identity()](https://numpy.org/doc/stable/reference/generated/numpy.identity.html#numpy-identity)"
   ]
  },
  {
   "cell_type": "code",
   "execution_count": 4,
   "metadata": {},
   "outputs": [
    {
     "name": "stdout",
     "output_type": "stream",
     "text": [
      "[[1 0 0]\n",
      " [0 1 0]\n",
      " [0 0 1]]\n"
     ]
    }
   ],
   "source": [
    "# define I:\n",
    "I = np. identity(3, dtype=int)\n",
    "print(I)"
   ]
  },
  {
   "cell_type": "code",
   "execution_count": 5,
   "metadata": {},
   "outputs": [
    {
     "name": "stdout",
     "output_type": "stream",
     "text": [
      "[[-1.48  0.36  0.88]\n",
      " [ 0.56  0.08 -0.36]\n",
      " [ 0.16 -0.12  0.04]]\n"
     ]
    }
   ],
   "source": [
    "# Solving the linear equation\n",
    "print(linalg.solve(A, I))"
   ]
  },
  {
   "cell_type": "markdown",
   "metadata": {
    "slideshow": {
     "slide_type": "subslide"
    }
   },
   "source": [
    "## Integration: `scipy.integrate`\n",
    "\n",
    "- Routines for numerical integration – single, double and triple integrals\n",
    "- Can solve Ordinary Differential Equations (ODEs) with initial conditions\n",
    "\n",
    "For example, we can use [`scipy.integrate.dblquad`](https://docs.scipy.org/doc/scipy/reference/generated/scipy.integrate.dblquad.html)\n",
    "to determine the result of a double integral like:\n",
    "\n",
    "$$\n",
    "\\int _{a} ^{b}\\ \\int _{g(x)} ^{h(x)} f(x,y) \\, dx \\ dy\n",
    "$$\n",
    "\n",
    "by calling: `dblquad(func, a, b, gfun, hfun)`, where `gfun` and `hfun` can be digits or functions."
   ]
  },
  {
   "cell_type": "markdown",
   "metadata": {
    "slideshow": {
     "slide_type": "subslide"
    }
   },
   "source": [
    "### Example : Double integral - digit boundary\n",
    "\n",
    "Calculate the double integral\n",
    "\n",
    "$$\n",
    "\\int_0^{\\pi/2} dx \\int_0^1 dy \\quad f(x,y) = \\int_0^{\\pi/2} \\int_0^1 f(x,y) \\ dy \\ dx \n",
    "$$\n",
    "\n",
    "where $f(x,y) = y \\sin(x)$. The answer should be 1/2.\n",
    "<br>\n",
    "<br>"
   ]
  },
  {
   "cell_type": "code",
   "execution_count": 6,
   "metadata": {},
   "outputs": [
    {
     "name": "stdout",
     "output_type": "stream",
     "text": [
      "(0.49999999999999994, 5.551115123125782e-15)\n"
     ]
    }
   ],
   "source": [
    "# numerically integrate using dblquad()\n",
    "from scipy.integrate import dblquad\n",
    "\n",
    "# define the integrand >> arguments order is important!\n",
    "def func(y, x):\n",
    "    return y * np.sin(x)\n",
    "\n",
    "# note that the result has two values: \"The resultant integral\" and \"An estimate of the error\"\n",
    "print(dblquad(func, 0, np.pi/2, 0, 1))"
   ]
  },
  {
   "cell_type": "markdown",
   "metadata": {},
   "source": [
    "Sometimes is useful to use the `inline` function definition using `lambda`, see the same example:"
   ]
  },
  {
   "cell_type": "code",
   "execution_count": 7,
   "metadata": {},
   "outputs": [
    {
     "name": "stdout",
     "output_type": "stream",
     "text": [
      "(0.49999999999999994, 5.551115123125782e-15)\n",
      "(0.49999999999999994, 5.551115123125782e-15)\n"
     ]
    }
   ],
   "source": [
    "# lambda arguments : expression\n",
    "inline_func = lambda y, x: y * np.sin(x)\n",
    "print(dblquad(inline_func, 0, np.pi/2, 0, 1))\n",
    "\n",
    "# or in one line:\n",
    "print(dblquad(lambda y, x: y * np.sin(x), 0, np.pi/2, 0, 1))"
   ]
  },
  {
   "cell_type": "markdown",
   "metadata": {},
   "source": [
    "### Example: Double integral - function boundary\n",
    "\n",
    "One way of testing this function is by calculating $\\pi$ using the double integral for the area of a circle with radius $r$:\n",
    "\n",
    "$$\n",
    "\\int _{-r} ^{r} \\int _{-\\sqrt(r^2-y^2)} ^{\\sqrt(r^2-y^2)} 1 \\, dx\\, dy = \\pi r^2\n",
    "$$\n",
    "\n",
    "We will solve this with [`scipy.integrate.dblquad()`](https://docs.scipy.org/doc/scipy/reference/generated/scipy.integrate.dblquad.html)"
   ]
  },
  {
   "cell_type": "markdown",
   "metadata": {},
   "source": [
    "#### Solution 1: simplify by considering $r=1$"
   ]
  },
  {
   "cell_type": "code",
   "execution_count": 8,
   "metadata": {},
   "outputs": [
    {
     "name": "stdout",
     "output_type": "stream",
     "text": [
      "(3.1415926535897967, 2.000470900043183e-09)\n"
     ]
    }
   ],
   "source": [
    "# define the integrand\n",
    "def func(x, y):\n",
    "    return 1\n",
    "\n",
    "# define the lower boundary curve in x\n",
    "def gfun(y):\n",
    "    return -1*np.sqrt(1 - y*y)\n",
    "\n",
    "# define the upper boundary curve in x\n",
    "def hfun(y):\n",
    "    return np.sqrt(1 - y*y)\n",
    "\n",
    "my_pi = dblquad(func, -1, +1, gfun, hfun)\n",
    "print(my_pi)"
   ]
  },
  {
   "cell_type": "markdown",
   "metadata": {},
   "source": [
    "#### Solution 2: generalise for any $r$ value\n",
    "\n",
    "Tip: You will need call `gfun` and `hfun` using a `lambda` function, something like\n",
    "`lambda y: gfun(y,r)`"
   ]
  },
  {
   "cell_type": "code",
   "execution_count": 9,
   "metadata": {
    "scrolled": true,
    "slideshow": {
     "slide_type": "-"
    }
   },
   "outputs": [
    {
     "data": {
      "text/plain": [
       "3.1415926535897967"
      ]
     },
     "execution_count": 9,
     "metadata": {},
     "output_type": "execute_result"
    }
   ],
   "source": [
    "# define the integrand\n",
    "def func(x, y):\n",
    "    return 1\n",
    "\n",
    "# define the lower boundary curve in x\n",
    "def gfun(y, r):\n",
    "    return -1*np.sqrt(r*r - y*y)\n",
    "\n",
    "# define the upper boundary curve in x\n",
    "def hfun(y, r):\n",
    "    return np.sqrt(r*r - y*y)\n",
    "\n",
    "# define the area for a given radius - using dblquad\n",
    "def get_area(r):\n",
    "    (area, err) = dblquad(func, -r, +r, lambda y: gfun(y,r), lambda y: hfun(y,r))\n",
    "    return area\n",
    "\n",
    "# get the pi value for a given area/radius:\n",
    "def get_pi(r):\n",
    "    area = get_area(r)\n",
    "    pi = area / r / r\n",
    "    return pi\n",
    "\n",
    "my_pi = get_pi(10)\n",
    "my_pi"
   ]
  },
  {
   "cell_type": "markdown",
   "metadata": {
    "slideshow": {
     "slide_type": "subslide"
    }
   },
   "source": [
    "#### PI: Check result\n",
    "\n",
    "Compare the integrated `pi` value with the standard `numpy.pi`"
   ]
  },
  {
   "cell_type": "code",
   "execution_count": 10,
   "metadata": {
    "scrolled": true,
    "slideshow": {
     "slide_type": "-"
    }
   },
   "outputs": [
    {
     "name": "stdout",
     "output_type": "stream",
     "text": [
      "6.661338147750939e-15\n",
      "0.00000000000000666134\n"
     ]
    }
   ],
   "source": [
    "# compare with numpy pi\n",
    "diff = abs(np.pi - get_pi(4841))\n",
    "\n",
    "# print with scientific notation\n",
    "print(diff)\n",
    "\n",
    "# suppress the scientific notation\n",
    "print('{:.20f}'.format(diff))\n"
   ]
  },
  {
   "cell_type": "markdown",
   "metadata": {
    "slideshow": {
     "slide_type": "subslide"
    }
   },
   "source": [
    "## Ordinary Differential Equations: `sicpy.odeint`\n",
    "\n",
    "Solve Ordinary Differential Equations (ODEs) with initial conditions."
   ]
  },
  {
   "cell_type": "markdown",
   "metadata": {},
   "source": [
    "### Example: Pendulum\n",
    "\n",
    "Considerer a point mass, $m$, is attached to the end of a massless rigid rod of length $l$.\n",
    "The pendulum is acted on by gravity and friction.\n",
    "We can describe the resulting motion of the pendulum by angle, $\\theta$, it makes with the vertical. \n",
    "\n",
    "<img src=\"pendulum.png\" style=\"width: 30%\">\n",
    "\n",
    "Assuming angle $\\theta$ always remains small, we can write a second-order differential equation to describe the motion of the mass according to Newton's 2nd law of motion, $m\\,a = F$, in terms of $\\theta$:\n",
    "\n",
    "$$\n",
    "\\ddot{\\theta} + \\frac{b}{m}\\,\\dot\\theta + \\frac{g}{l}\\,\\theta = 0\n",
    "$$\n",
    "\n",
    "where $b$ is the friction coefficient and $b \\ll g$.\n",
    "\n",
    "\n",
    "To use `odeint`, we rewrite the above equation as 2 first-order differential equations:\n",
    "\n",
    "$\n",
    "\\dot{\\theta} = \\omega\n",
    "$\n",
    "\n",
    "$\n",
    "\\dot{\\omega}= -\\frac{g}{l}\\,\\theta - \\frac{b}{m}\\,\\omega\n",
    "$"
   ]
  },
  {
   "cell_type": "markdown",
   "metadata": {
    "slideshow": {
     "slide_type": "subslide"
    }
   },
   "source": [
    "#### Pendulum: Defining values\n",
    "\n",
    "Set up parameters and initial values."
   ]
  },
  {
   "cell_type": "code",
   "execution_count": 11,
   "metadata": {
    "scrolled": true,
    "slideshow": {
     "slide_type": "-"
    }
   },
   "outputs": [],
   "source": [
    "# Parameters and initial values\n",
    "g = 9.81                # gravitational constant\n",
    "l = 1.0                 # length of pendulum\n",
    "m = 1.0                 # mass of the ball\n",
    "b = 0.2                 # friction coefficient\n",
    "theta0 = np.radians(10) # initial angle\n",
    "w0 = 0.0                # initial omega\n",
    "\n",
    "# create a vector with the initial angle and initial omega\n",
    "y0 = [theta0, w0]\n",
    "\n",
    "# time interval\n",
    "time_init = 0 # total number of seconds\n",
    "time_end = 10 # total number of seconds\n",
    "steps = 101   # number of points interval\n",
    "\n",
    "t = np.linspace(time_init, time_end, steps)"
   ]
  },
  {
   "cell_type": "markdown",
   "metadata": {},
   "source": [
    "#### Pendulum: Defining ODE\n",
    "\n",
    "Define the ODE as a function."
   ]
  },
  {
   "cell_type": "code",
   "execution_count": 12,
   "metadata": {
    "scrolled": true,
    "slideshow": {
     "slide_type": "-"
    }
   },
   "outputs": [],
   "source": [
    "# define ODEs as a function\n",
    "def pend(y, t, b, m, g, l):\n",
    "    '''y = [theta, omega] '''\n",
    "    theta, omega = y\n",
    "    odes = [omega, - (g/l*theta) - (b/m*omega)]\n",
    "    return odes"
   ]
  },
  {
   "cell_type": "markdown",
   "metadata": {},
   "source": [
    "#### Pendulum: Solving ODE\n",
    "\n",
    "Define the ODE as a function.\n",
    "\n",
    "Use `odeint` to numerically solve the ODE with initial conditions."
   ]
  },
  {
   "cell_type": "code",
   "execution_count": 13,
   "metadata": {},
   "outputs": [],
   "source": [
    "from scipy.integrate import odeint\n",
    "\n",
    "# get solution. Note args are given as a tuple\n",
    "solution = odeint(pend, y0, t, args=(b,m,g,l))\n"
   ]
  },
  {
   "cell_type": "markdown",
   "metadata": {},
   "source": [
    "#### Pendulum: Exact solution & Plotting\n",
    "\n",
    "The ODE can be solved analytically. The exact solutions for $\\theta$ and $\\omega$ are:"
   ]
  },
  {
   "cell_type": "code",
   "execution_count": 14,
   "metadata": {},
   "outputs": [],
   "source": [
    "# Exact solution for theta\n",
    "def thetaExact(t, theta0, b, m, g, l):\n",
    "    root = np.sqrt( np.abs( (b*b)-4*g*m*m/l ) )\n",
    "    sol = theta0*np.exp(-b*t/2)*( np.cos( root*t/2 ) + (b/root)*np.sin( root*t/2) )\n",
    "    return sol\n",
    "\n",
    "# Exact solution for omega\n",
    "def omegaExact(t, theta0, b, m, g, l):\n",
    "    root = np.sqrt( np.abs( (b*b)-4*g*m*m/l ) )\n",
    "    sol = -(b/2)*theta0*np.exp(-b*t/2)*( np.cos( root*t/2 ) + (b/root)*np.sin( root*t/2) ) + (theta0/2)*np.exp(-b*t/2)*( b*np.cos( root*t/2 ) - root*np.sin( root*t/2) )\n",
    "    return sol"
   ]
  },
  {
   "cell_type": "markdown",
   "metadata": {
    "slideshow": {
     "slide_type": "subslide"
    }
   },
   "source": [
    "To see how good the numerical solutions for $\\theta$ and $\\omega$ are, plot the exact solutions against the\n",
    "numerical solutions for the appropriate range of $t$.\n",
    "\n",
    "You should include a legend to label the different lines/points.\n",
    "\n",
    "You should find that the numerical solution looks quite good. Can you adjust the parameters above\n",
    "(re-execute all the relevant cells) to make it worse?"
   ]
  },
  {
   "cell_type": "code",
   "execution_count": 15,
   "metadata": {
    "scrolled": true,
    "slideshow": {
     "slide_type": "-"
    }
   },
   "outputs": [
    {
     "data": {
      "image/png": "[encoded data removed]",
      "text/plain": [
       "<Figure size 640x480 with 1 Axes>"
      ]
     },
     "metadata": {},
     "output_type": "display_data"
    }
   ],
   "source": [
    "%matplotlib inline\n",
    "import matplotlib.pyplot as plt\n",
    "\n",
    "# plot theta\n",
    "plt.plot(t, solution[:, 0], 'b', label=r'$\\theta(t)$: numeric')\n",
    "plt.plot(t[0::4], thetaExact(t[0::4],theta0,b,m,g,l), 'ro', label=r'$\\theta(t)$: exact')\n",
    "\n",
    "#plot omega\n",
    "plt.plot(t, solution[:, 1], 'g', label=r'$\\omega(t)$: numeric')\n",
    "plt.plot(t[0::4], omegaExact(t[0::4],theta0,b,m,g,l), 'm*', label=r'$\\omega(t)$: exact')\n",
    "\n",
    "plt.legend(loc='best')\n",
    "plt.xlabel(r'$t(s)$')\n",
    "plt.grid()\n"
   ]
  },
  {
   "cell_type": "markdown",
   "metadata": {
    "slideshow": {
     "slide_type": "slide"
    }
   },
   "source": [
    "## Optimisation: `scipy.optimize.leastsq`\n",
    "\n",
    "- Scipy has Several classical optimisation algorithms\n",
    "  - Least squares fitting\n",
    "  - Quasi-Newton type optimisations\n",
    "  - Simulated annealing\n",
    "  - General purpose root finding\n",
    "\n",
    "Here, we are going to use `scipy.optimize.leastsq` to fit some measured data, $\\{x_i,\\,y_i\\}$, to a function."
   ]
  },
  {
   "cell_type": "markdown",
   "metadata": {
    "slideshow": {
     "slide_type": "subslide"
    }
   },
   "source": [
    "### Example: sin function\n",
    "\n",
    "Consider the following function\n",
    "\n",
    "$$\n",
    "y\\,=\\,A\\,\\sin(2\\pi k x \\,+\\, \\theta)\n",
    "$$\n",
    "\n",
    "where the parameters $A$, $k$, and $\\theta$ are unknown.\n",
    "\n",
    "The residual vector, that will be squared and summed by `leastsq` to fit the data, is:\n",
    "\n",
    "$$\n",
    "e_i\\,=\\, ∣∣ \\, y_i \\,− \\,A\\sin(2\\pi k x_i + \\theta)∣∣\n",
    "$$\n",
    "\n",
    "By defining a function to compute the residuals, $e_i$, and, selecting appropriate starting values, `leastsq` can be used to find the best-fit parameters $\\hat{A}$, $\\hat{k}$, $\\hat{\\theta}$."
   ]
  },
  {
   "cell_type": "markdown",
   "metadata": {},
   "source": [
    "#### Defining initial values\n",
    "\n",
    "Create a sample of \"true values\", and the \"measured\" (noisy) data. Define the residual function and initial values."
   ]
  },
  {
   "cell_type": "code",
   "execution_count": 16,
   "metadata": {
    "scrolled": true,
    "slideshow": {
     "slide_type": "-"
    }
   },
   "outputs": [],
   "source": [
    "# define the initial values\n",
    "A = 10\n",
    "k = 1.0 / 3e-2\n",
    "theta = np.pi / 6\n",
    "\n",
    "# define x array\n",
    "points = 30\n",
    "x_ini = 0\n",
    "x_end = 0.06\n",
    "dx = x_end/points\n",
    "x = np.arange(x_ini, x_end, dx)\n",
    "\n",
    "# parameters vector:\n",
    "p = [A, k, theta]\n",
    "\n",
    "# gessing values of the parameter vector\n",
    "p0 = [8, 1 / 2.3e-2, np.pi / 3]"
   ]
  },
  {
   "cell_type": "markdown",
   "metadata": {
    "slideshow": {
     "slide_type": "subslide"
    }
   },
   "source": [
    "#### Function definitions\n",
    "\n",
    "For easy evaluation of the model function parameters y=[A, K, theta], we define two functions:"
   ]
  },
  {
   "cell_type": "code",
   "execution_count": 17,
   "metadata": {},
   "outputs": [],
   "source": [
    "# def main function\n",
    "def func(x, p):\n",
    "    '''p = [A, k, theta]'''\n",
    "    return p[0] * np.sin(2.0*np.pi*p[1]*x + p[2])"
   ]
  },
  {
   "cell_type": "code",
   "execution_count": 18,
   "metadata": {
    "collapsed": true,
    "scrolled": true,
    "slideshow": {
     "slide_type": "-"
    }
   },
   "outputs": [],
   "source": [
    "# Function to compute the residual\n",
    "def residuals(p, measure, x):\n",
    "    err = measure - func(x, p)\n",
    "    return err"
   ]
  },
  {
   "cell_type": "markdown",
   "metadata": {},
   "source": [
    "#### Experimental data\n",
    "\n",
    "Create an experimental data by calculating the exact solution, and then, adding a noise to it."
   ]
  },
  {
   "cell_type": "code",
   "execution_count": 19,
   "metadata": {},
   "outputs": [],
   "source": [
    "# define noise measured data >> tip: use random number to add noise\n",
    "y_noise = func(x, p) + 2.0*np.random.randn(len(x))"
   ]
  },
  {
   "cell_type": "markdown",
   "metadata": {},
   "source": [
    "#### Parameter estimation\n",
    "\n",
    "Do least squares fitting and print the parameter estimation"
   ]
  },
  {
   "cell_type": "code",
   "execution_count": 20,
   "metadata": {
    "scrolled": true,
    "slideshow": {
     "slide_type": "-"
    }
   },
   "outputs": [
    {
     "name": "stdout",
     "output_type": "stream",
     "text": [
      "Estimated:  [-10.39814001  33.76839002   3.55768998]\n",
      "Exact:  [10.         33.33333333  0.52359878]\n"
     ]
    }
   ],
   "source": [
    "# least squares fitting\n",
    "from scipy.optimize import leastsq\n",
    "\n",
    "fitting = leastsq(residuals, p0, args=(y_noise, x))\n",
    "\n",
    "# Print estimated and exact parameters\n",
    "print(\"Estimated: \",fitting[0])\n",
    "print(\"Exact: \",np.array(p))"
   ]
  },
  {
   "cell_type": "markdown",
   "metadata": {},
   "source": [
    "#### Looking the results"
   ]
  },
  {
   "cell_type": "code",
   "execution_count": 21,
   "metadata": {
    "scrolled": true,
    "slideshow": {
     "slide_type": "-"
    }
   },
   "outputs": [
    {
     "data": {
      "image/png": "[encoded data removed]",
      "text/plain": [
       "<Figure size 640x480 with 1 Axes>"
      ]
     },
     "metadata": {},
     "output_type": "display_data"
    }
   ],
   "source": [
    "# New x-vector to better plotting\n",
    "x2 = np.arange(x_ini, x_end, x_end/1000)\n",
    "\n",
    "plt.plot(x2, func(x2, fitting[0]), lw=5, c='k', label ='Fit')\n",
    "plt.plot(x, y_noise, 'o', label ='Noise')\n",
    "plt.plot(x2, func(x2, p), '--', color=\"darkorange\", label ='True')\n",
    "\n",
    "plt.title('Least-squares fit to noisy data')\n",
    "plt.legend()\n",
    "plt.show()"
   ]
  },
  {
   "cell_type": "markdown",
   "metadata": {
    "slideshow": {
     "slide_type": "slide"
    }
   },
   "source": [
    "## Summary\n",
    "\n",
    "- As we have seen, SciPy has a wide range of useful functionality for scientific computing.\n",
    "- In case it does not have what you need, there are other packages with specialised functionality.\n",
    "\n",
    "#### Other packages\n",
    "\n",
    "- `Pandas`: Offers R-like statistical analysis of numerical tables and time series\n",
    "- `SymPy`: Python library for symbolic computing\n",
    "- `scikit-image`: Advanced image processing\n",
    "- `scikit-learn`: Package for machine learning  \n",
    "- `Sage`: Open source replacement for Mathematica / Maple / Matlab (built using Python)\n",
    "\n"
   ]
  }
 ],
 "metadata": {
  "celltoolbar": "Raw Cell Format",
  "kernelspec": {
   "display_name": "Python 3.10.9 ('cdf_jo')",
   "language": "python",
   "name": "python3"
  },
  "language_info": {
   "codemirror_mode": {
    "name": "ipython",
    "version": 3
   },
   "file_extension": ".py",
   "mimetype": "text/x-python",
   "name": "python",
   "nbconvert_exporter": "python",
   "pygments_lexer": "ipython3",
   "version": "3.10.9"
  },
  "vscode": {
   "interpreter": {
    "hash": "10c7b8e2ae76183610081432158483fa3c367191e44352272b5374c29f388b57"
   }
  }
 },
 "nbformat": 4,
 "nbformat_minor": 1
}
